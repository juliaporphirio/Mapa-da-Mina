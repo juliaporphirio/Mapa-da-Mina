{
 "cells": [
  {
   "cell_type": "code",
   "execution_count": 24,
   "metadata": {
    "ExecuteTime": {
     "end_time": "2019-03-24T14:44:50.618924Z",
     "start_time": "2019-03-24T14:44:50.606929Z"
    }
   },
   "outputs": [],
   "source": [
    "import spotipy\n",
    "from spotipy.oauth2 import SpotifyClientCredentials\n",
    "import sys\n",
    "import spotipy.util as util\n",
    "import pandas as pd\n",
    "import numpy as np\n",
    "import pandas as pd\n",
    "import numpy as np\n",
    "import matplotlib.pyplot as plt\n",
    "import pandas as pd\n",
    "from sklearn.preprocessing import StandardScaler\n",
    "from sklearn.cluster import KMeans\n",
    "from sklearn.metrics import silhouette_samples, silhouette_score\n",
    "import matplotlib.cm as cm\n",
    "import seaborn as sns\n",
    "from sklearn.metrics.pairwise import euclidean_distances\n",
    "%matplotlib inline"
   ]
  },
  {
   "cell_type": "code",
   "execution_count": 25,
   "metadata": {
    "ExecuteTime": {
     "end_time": "2019-03-24T14:44:50.830756Z",
     "start_time": "2019-03-24T14:44:50.827730Z"
    }
   },
   "outputs": [],
   "source": [
    "client_credentials_manager = SpotifyClientCredentials(client_id='be9b36b0f0fd4ade981b41afca0fa57e',\n",
    "                                                      client_secret='87e23dc018ec487bb2689a7741aa013')\n",
    "sp = spotipy.Spotify(client_credentials_manager=client_credentials_manager)\n"
   ]
  },
  {
   "cell_type": "code",
   "execution_count": 26,
   "metadata": {
    "ExecuteTime": {
     "end_time": "2019-03-24T14:44:50.998153Z",
     "start_time": "2019-03-24T14:44:50.994196Z"
    }
   },
   "outputs": [],
   "source": [
    "user = 'juliaporphirio'\n",
    "playlist_id = '5KKOTbl1fyNRS4LECmZpvu'\n",
    "client_id='25cfec198a224bec9d819dd78f3b7ae3'\n",
    "client_secret='a76cbbe7e9ec4e3db312aa2652f73caf'\n",
    "#scope = #'playlist-read-private user-read-private user-read-email' \n",
    "scope = 'user-follow-read user-top-read user-read-private user-read-birthdate user-read-email playlist-read-private user-library-read user-library-modify user-read-playback-state user-read-currently-playing user-modify-playback-state user-read-recently-played'\n"
   ]
  },
  {
   "cell_type": "markdown",
   "metadata": {},
   "source": [
    "## Pegar autenticação do usuário"
   ]
  },
  {
   "cell_type": "code",
   "execution_count": 33,
   "metadata": {
    "ExecuteTime": {
     "end_time": "2019-03-24T14:46:12.068388Z",
     "start_time": "2019-03-24T14:46:12.065395Z"
    }
   },
   "outputs": [],
   "source": [
    "username = 'juliaporphirio'"
   ]
  },
  {
   "cell_type": "code",
   "execution_count": 34,
   "metadata": {
    "ExecuteTime": {
     "end_time": "2019-03-24T14:46:12.867588Z",
     "start_time": "2019-03-24T14:46:12.393840Z"
    }
   },
   "outputs": [],
   "source": [
    "token = util.prompt_for_user_token(username,scope,client_id=client_id,client_secret=client_secret,redirect_uri='http://localhost:1410/')\n",
    "\n",
    "if token:\n",
    "    sp = spotipy.Spotify(auth=token)\n",
    "    sp.trace = False\n",
    "    results = sp.current_user_playlists(limit=50)\n",
    "else:\n",
    "    print(\"Can't get token for\", username)"
   ]
  },
  {
   "cell_type": "markdown",
   "metadata": {},
   "source": [
    "# Top artistas  "
   ]
  },
  {
   "cell_type": "markdown",
   "metadata": {},
   "source": [
    "### Base features das top  musicas do usuario"
   ]
  },
  {
   "cell_type": "code",
   "execution_count": 37,
   "metadata": {
    "ExecuteTime": {
     "end_time": "2019-03-24T14:46:36.341556Z",
     "start_time": "2019-03-24T14:46:35.881974Z"
    }
   },
   "outputs": [],
   "source": [
    "top_musicas = sp.current_user_top_tracks(limit=100)\n",
    "track_id = []\n",
    "for i, t in enumerate(top_musicas['items']):\n",
    "    track_id.append(top_musicas['items'][i]['id'])"
   ]
  },
  {
   "cell_type": "code",
   "execution_count": 36,
   "metadata": {
    "ExecuteTime": {
     "end_time": "2019-03-24T14:46:34.514914Z",
     "start_time": "2019-03-24T14:46:14.175720Z"
    }
   },
   "outputs": [],
   "source": [
    "list_usuario=[]\n",
    "for i in track_id:\n",
    "    list_usuario.append(sp.audio_features([i])[0])"
   ]
  },
  {
   "cell_type": "code",
   "execution_count": 38,
   "metadata": {
    "ExecuteTime": {
     "end_time": "2019-03-24T14:46:38.025517Z",
     "start_time": "2019-03-24T14:46:38.015510Z"
    }
   },
   "outputs": [],
   "source": [
    "def criacao_features(lista_tracks):\n",
    "    features_list = []\n",
    "    for features in lista_tracks:\n",
    "        features_list.append([features['energy'], features['liveness'],\n",
    "        features['tempo'], features['speechiness'],\n",
    "        features['acousticness'], features['instrumentalness'],\n",
    "        features['time_signature'], features['danceability'],\n",
    "        features['key'], features['duration_ms'],\n",
    "        features['loudness'], features['valence'],\n",
    "        features['mode'], features['type'],\n",
    "        features['uri']])\n",
    "\n",
    "    df_features = pd.DataFrame(lista_tracks, columns=['energy', 'liveness',\n",
    "    'tempo', 'speechiness',\n",
    "    'acousticness', 'instrumentalness',\n",
    "    'time_signature', 'danceability',\n",
    "    'key', 'duration_ms', 'loudness',\n",
    "    'valence', 'mode', 'type', 'uri'])\n",
    "    return(df_features)"
   ]
  },
  {
   "cell_type": "code",
   "execution_count": 39,
   "metadata": {
    "ExecuteTime": {
     "end_time": "2019-03-24T14:46:38.425851Z",
     "start_time": "2019-03-24T14:46:38.390943Z"
    }
   },
   "outputs": [
    {
     "data": {
      "text/html": [
       "<div>\n",
       "<style scoped>\n",
       "    .dataframe tbody tr th:only-of-type {\n",
       "        vertical-align: middle;\n",
       "    }\n",
       "\n",
       "    .dataframe tbody tr th {\n",
       "        vertical-align: top;\n",
       "    }\n",
       "\n",
       "    .dataframe thead th {\n",
       "        text-align: right;\n",
       "    }\n",
       "</style>\n",
       "<table border=\"1\" class=\"dataframe\">\n",
       "  <thead>\n",
       "    <tr style=\"text-align: right;\">\n",
       "      <th></th>\n",
       "      <th>energy</th>\n",
       "      <th>liveness</th>\n",
       "      <th>tempo</th>\n",
       "      <th>speechiness</th>\n",
       "      <th>acousticness</th>\n",
       "      <th>instrumentalness</th>\n",
       "      <th>time_signature</th>\n",
       "      <th>danceability</th>\n",
       "      <th>key</th>\n",
       "      <th>duration_ms</th>\n",
       "      <th>loudness</th>\n",
       "      <th>valence</th>\n",
       "      <th>mode</th>\n",
       "      <th>type</th>\n",
       "      <th>uri</th>\n",
       "    </tr>\n",
       "  </thead>\n",
       "  <tbody>\n",
       "    <tr>\n",
       "      <th>0</th>\n",
       "      <td>0.483</td>\n",
       "      <td>0.696</td>\n",
       "      <td>140.154</td>\n",
       "      <td>0.0356</td>\n",
       "      <td>0.1300</td>\n",
       "      <td>0.000028</td>\n",
       "      <td>4</td>\n",
       "      <td>0.619</td>\n",
       "      <td>0</td>\n",
       "      <td>269680</td>\n",
       "      <td>-11.802</td>\n",
       "      <td>0.661</td>\n",
       "      <td>0</td>\n",
       "      <td>audio_features</td>\n",
       "      <td>spotify:track:4Gp6ZP2UFewXp8ltxy7wHa</td>\n",
       "    </tr>\n",
       "    <tr>\n",
       "      <th>1</th>\n",
       "      <td>0.366</td>\n",
       "      <td>0.718</td>\n",
       "      <td>136.863</td>\n",
       "      <td>0.0429</td>\n",
       "      <td>0.1310</td>\n",
       "      <td>0.000208</td>\n",
       "      <td>3</td>\n",
       "      <td>0.594</td>\n",
       "      <td>5</td>\n",
       "      <td>308093</td>\n",
       "      <td>-14.071</td>\n",
       "      <td>0.317</td>\n",
       "      <td>0</td>\n",
       "      <td>audio_features</td>\n",
       "      <td>spotify:track:6Y2f6vVRhJJvUCQosrEtp4</td>\n",
       "    </tr>\n",
       "    <tr>\n",
       "      <th>2</th>\n",
       "      <td>0.423</td>\n",
       "      <td>0.959</td>\n",
       "      <td>79.305</td>\n",
       "      <td>0.4900</td>\n",
       "      <td>0.8830</td>\n",
       "      <td>0.000000</td>\n",
       "      <td>4</td>\n",
       "      <td>0.431</td>\n",
       "      <td>1</td>\n",
       "      <td>99147</td>\n",
       "      <td>-18.125</td>\n",
       "      <td>0.384</td>\n",
       "      <td>0</td>\n",
       "      <td>audio_features</td>\n",
       "      <td>spotify:track:5cuxD12d736DclguQ3gOOV</td>\n",
       "    </tr>\n",
       "    <tr>\n",
       "      <th>3</th>\n",
       "      <td>0.463</td>\n",
       "      <td>0.698</td>\n",
       "      <td>79.971</td>\n",
       "      <td>0.0359</td>\n",
       "      <td>0.0345</td>\n",
       "      <td>0.018400</td>\n",
       "      <td>4</td>\n",
       "      <td>0.505</td>\n",
       "      <td>7</td>\n",
       "      <td>269280</td>\n",
       "      <td>-11.688</td>\n",
       "      <td>0.630</td>\n",
       "      <td>1</td>\n",
       "      <td>audio_features</td>\n",
       "      <td>spotify:track:3G0A1OVJn8xZKD5WT2b9JM</td>\n",
       "    </tr>\n",
       "    <tr>\n",
       "      <th>4</th>\n",
       "      <td>0.253</td>\n",
       "      <td>0.701</td>\n",
       "      <td>144.027</td>\n",
       "      <td>0.0324</td>\n",
       "      <td>0.6980</td>\n",
       "      <td>0.002950</td>\n",
       "      <td>4</td>\n",
       "      <td>0.701</td>\n",
       "      <td>0</td>\n",
       "      <td>252307</td>\n",
       "      <td>-15.048</td>\n",
       "      <td>0.322</td>\n",
       "      <td>1</td>\n",
       "      <td>audio_features</td>\n",
       "      <td>spotify:track:36PPMKQMB5k1EytQ0IFoAf</td>\n",
       "    </tr>\n",
       "  </tbody>\n",
       "</table>\n",
       "</div>"
      ],
      "text/plain": [
       "   energy  liveness    tempo  speechiness  acousticness  instrumentalness  \\\n",
       "0   0.483     0.696  140.154       0.0356        0.1300          0.000028   \n",
       "1   0.366     0.718  136.863       0.0429        0.1310          0.000208   \n",
       "2   0.423     0.959   79.305       0.4900        0.8830          0.000000   \n",
       "3   0.463     0.698   79.971       0.0359        0.0345          0.018400   \n",
       "4   0.253     0.701  144.027       0.0324        0.6980          0.002950   \n",
       "\n",
       "   time_signature  danceability  key  duration_ms  loudness  valence  mode  \\\n",
       "0               4         0.619    0       269680   -11.802    0.661     0   \n",
       "1               3         0.594    5       308093   -14.071    0.317     0   \n",
       "2               4         0.431    1        99147   -18.125    0.384     0   \n",
       "3               4         0.505    7       269280   -11.688    0.630     1   \n",
       "4               4         0.701    0       252307   -15.048    0.322     1   \n",
       "\n",
       "             type                                   uri  \n",
       "0  audio_features  spotify:track:4Gp6ZP2UFewXp8ltxy7wHa  \n",
       "1  audio_features  spotify:track:6Y2f6vVRhJJvUCQosrEtp4  \n",
       "2  audio_features  spotify:track:5cuxD12d736DclguQ3gOOV  \n",
       "3  audio_features  spotify:track:3G0A1OVJn8xZKD5WT2b9JM  \n",
       "4  audio_features  spotify:track:36PPMKQMB5k1EytQ0IFoAf  "
      ]
     },
     "execution_count": 39,
     "metadata": {},
     "output_type": "execute_result"
    }
   ],
   "source": [
    "df_features_usuario = criacao_features(list_usuario)\n",
    "df_features_usuario.head()"
   ]
  },
  {
   "cell_type": "code",
   "execution_count": 40,
   "metadata": {
    "ExecuteTime": {
     "end_time": "2019-03-24T14:46:38.603759Z",
     "start_time": "2019-03-24T14:46:38.590793Z"
    }
   },
   "outputs": [],
   "source": [
    "df_features_usuario.to_csv('df_features_usuario.csv')"
   ]
  },
  {
   "cell_type": "markdown",
   "metadata": {},
   "source": [
    "### Base features das top 50 musicas spotify"
   ]
  },
  {
   "cell_type": "code",
   "execution_count": 41,
   "metadata": {
    "ExecuteTime": {
     "end_time": "2019-03-24T14:46:39.470902Z",
     "start_time": "2019-03-24T14:46:38.951292Z"
    }
   },
   "outputs": [],
   "source": [
    "track_results = sp.user_playlist(username, playlist_id='37i9dQZF1DX9qNs32fujYe')"
   ]
  },
  {
   "cell_type": "code",
   "execution_count": 42,
   "metadata": {
    "ExecuteTime": {
     "end_time": "2019-03-24T14:46:39.477860Z",
     "start_time": "2019-03-24T14:46:39.472872Z"
    }
   },
   "outputs": [],
   "source": [
    "track_id_outros = []\n",
    "\n",
    "for i, t in enumerate(track_results['tracks']['items']):\n",
    "    track_id_outros.append(t['track']['id'])"
   ]
  },
  {
   "cell_type": "code",
   "execution_count": 43,
   "metadata": {
    "ExecuteTime": {
     "end_time": "2019-03-24T14:47:03.071566Z",
     "start_time": "2019-03-24T14:46:39.481850Z"
    }
   },
   "outputs": [],
   "source": [
    "list_outros=[]\n",
    "for i in track_id_outros:\n",
    "    list_outros.append(sp.audio_features([i])[0])"
   ]
  },
  {
   "cell_type": "code",
   "execution_count": 44,
   "metadata": {
    "ExecuteTime": {
     "end_time": "2019-03-24T14:47:03.111456Z",
     "start_time": "2019-03-24T14:47:03.075588Z"
    }
   },
   "outputs": [
    {
     "data": {
      "text/html": [
       "<div>\n",
       "<style scoped>\n",
       "    .dataframe tbody tr th:only-of-type {\n",
       "        vertical-align: middle;\n",
       "    }\n",
       "\n",
       "    .dataframe tbody tr th {\n",
       "        vertical-align: top;\n",
       "    }\n",
       "\n",
       "    .dataframe thead th {\n",
       "        text-align: right;\n",
       "    }\n",
       "</style>\n",
       "<table border=\"1\" class=\"dataframe\">\n",
       "  <thead>\n",
       "    <tr style=\"text-align: right;\">\n",
       "      <th></th>\n",
       "      <th>energy</th>\n",
       "      <th>liveness</th>\n",
       "      <th>tempo</th>\n",
       "      <th>speechiness</th>\n",
       "      <th>acousticness</th>\n",
       "      <th>instrumentalness</th>\n",
       "      <th>time_signature</th>\n",
       "      <th>danceability</th>\n",
       "      <th>key</th>\n",
       "      <th>duration_ms</th>\n",
       "      <th>loudness</th>\n",
       "      <th>valence</th>\n",
       "      <th>mode</th>\n",
       "      <th>type</th>\n",
       "      <th>uri</th>\n",
       "    </tr>\n",
       "  </thead>\n",
       "  <tbody>\n",
       "    <tr>\n",
       "      <th>0</th>\n",
       "      <td>0.950</td>\n",
       "      <td>0.374</td>\n",
       "      <td>154.224</td>\n",
       "      <td>0.0829</td>\n",
       "      <td>0.003730</td>\n",
       "      <td>0.000212</td>\n",
       "      <td>4</td>\n",
       "      <td>0.287</td>\n",
       "      <td>10</td>\n",
       "      <td>259093</td>\n",
       "      <td>-6.643</td>\n",
       "      <td>0.3570</td>\n",
       "      <td>0</td>\n",
       "      <td>audio_features</td>\n",
       "      <td>spotify:track:3sCzuYAdWcGhukBtxjdr6P</td>\n",
       "    </tr>\n",
       "    <tr>\n",
       "      <th>1</th>\n",
       "      <td>0.895</td>\n",
       "      <td>0.404</td>\n",
       "      <td>139.989</td>\n",
       "      <td>0.0364</td>\n",
       "      <td>0.000023</td>\n",
       "      <td>0.522000</td>\n",
       "      <td>4</td>\n",
       "      <td>0.495</td>\n",
       "      <td>1</td>\n",
       "      <td>264500</td>\n",
       "      <td>-7.805</td>\n",
       "      <td>0.5390</td>\n",
       "      <td>1</td>\n",
       "      <td>audio_features</td>\n",
       "      <td>spotify:track:3ku4neMM3KIhFXhPaPZU7A</td>\n",
       "    </tr>\n",
       "    <tr>\n",
       "      <th>2</th>\n",
       "      <td>0.641</td>\n",
       "      <td>0.116</td>\n",
       "      <td>140.501</td>\n",
       "      <td>0.0314</td>\n",
       "      <td>0.011600</td>\n",
       "      <td>0.009530</td>\n",
       "      <td>4</td>\n",
       "      <td>0.332</td>\n",
       "      <td>4</td>\n",
       "      <td>359238</td>\n",
       "      <td>-6.382</td>\n",
       "      <td>0.0504</td>\n",
       "      <td>0</td>\n",
       "      <td>audio_features</td>\n",
       "      <td>spotify:track:3ArY0OnRj46Qb7UIpjrKKy</td>\n",
       "    </tr>\n",
       "    <tr>\n",
       "      <th>3</th>\n",
       "      <td>0.993</td>\n",
       "      <td>0.320</td>\n",
       "      <td>129.981</td>\n",
       "      <td>0.0819</td>\n",
       "      <td>0.000081</td>\n",
       "      <td>0.311000</td>\n",
       "      <td>4</td>\n",
       "      <td>0.520</td>\n",
       "      <td>6</td>\n",
       "      <td>354069</td>\n",
       "      <td>-4.634</td>\n",
       "      <td>0.2860</td>\n",
       "      <td>1</td>\n",
       "      <td>audio_features</td>\n",
       "      <td>spotify:track:5OYFxF01HsmmGHBtoCKYN9</td>\n",
       "    </tr>\n",
       "    <tr>\n",
       "      <th>4</th>\n",
       "      <td>0.930</td>\n",
       "      <td>0.235</td>\n",
       "      <td>96.495</td>\n",
       "      <td>0.0452</td>\n",
       "      <td>0.001340</td>\n",
       "      <td>0.000005</td>\n",
       "      <td>4</td>\n",
       "      <td>0.545</td>\n",
       "      <td>10</td>\n",
       "      <td>218615</td>\n",
       "      <td>-3.406</td>\n",
       "      <td>0.5190</td>\n",
       "      <td>0</td>\n",
       "      <td>audio_features</td>\n",
       "      <td>spotify:track:63fBEvbvxbSwVOOPS9Ik4l</td>\n",
       "    </tr>\n",
       "  </tbody>\n",
       "</table>\n",
       "</div>"
      ],
      "text/plain": [
       "   energy  liveness    tempo  speechiness  acousticness  instrumentalness  \\\n",
       "0   0.950     0.374  154.224       0.0829      0.003730          0.000212   \n",
       "1   0.895     0.404  139.989       0.0364      0.000023          0.522000   \n",
       "2   0.641     0.116  140.501       0.0314      0.011600          0.009530   \n",
       "3   0.993     0.320  129.981       0.0819      0.000081          0.311000   \n",
       "4   0.930     0.235   96.495       0.0452      0.001340          0.000005   \n",
       "\n",
       "   time_signature  danceability  key  duration_ms  loudness  valence  mode  \\\n",
       "0               4         0.287   10       259093    -6.643   0.3570     0   \n",
       "1               4         0.495    1       264500    -7.805   0.5390     1   \n",
       "2               4         0.332    4       359238    -6.382   0.0504     0   \n",
       "3               4         0.520    6       354069    -4.634   0.2860     1   \n",
       "4               4         0.545   10       218615    -3.406   0.5190     0   \n",
       "\n",
       "             type                                   uri  \n",
       "0  audio_features  spotify:track:3sCzuYAdWcGhukBtxjdr6P  \n",
       "1  audio_features  spotify:track:3ku4neMM3KIhFXhPaPZU7A  \n",
       "2  audio_features  spotify:track:3ArY0OnRj46Qb7UIpjrKKy  \n",
       "3  audio_features  spotify:track:5OYFxF01HsmmGHBtoCKYN9  \n",
       "4  audio_features  spotify:track:63fBEvbvxbSwVOOPS9Ik4l  "
      ]
     },
     "execution_count": 44,
     "metadata": {},
     "output_type": "execute_result"
    }
   ],
   "source": [
    "df_features_outros = criacao_features(list_outros)\n",
    "df_features_outros.head()"
   ]
  },
  {
   "cell_type": "code",
   "execution_count": 45,
   "metadata": {
    "ExecuteTime": {
     "end_time": "2019-03-24T14:47:03.129408Z",
     "start_time": "2019-03-24T14:47:03.116445Z"
    }
   },
   "outputs": [],
   "source": [
    "df_features_outros.to_csv('df_features_outros.csv')"
   ]
  },
  {
   "cell_type": "markdown",
   "metadata": {},
   "source": [
    "# Bases recomendacao"
   ]
  },
  {
   "cell_type": "code",
   "execution_count": 46,
   "metadata": {
    "ExecuteTime": {
     "end_time": "2019-03-24T14:47:03.140385Z",
     "start_time": "2019-03-24T14:47:03.133398Z"
    }
   },
   "outputs": [],
   "source": [
    "df_features_usuario = df_features_usuario[['energy', 'liveness', 'tempo', 'speechiness', 'acousticness','instrumentalness',  'danceability',  'duration_ms']]\n",
    "#df_features_usuario['y'] = 1"
   ]
  },
  {
   "cell_type": "code",
   "execution_count": 47,
   "metadata": {
    "ExecuteTime": {
     "end_time": "2019-03-24T14:47:03.153346Z",
     "start_time": "2019-03-24T14:47:03.144370Z"
    }
   },
   "outputs": [
    {
     "data": {
      "text/plain": [
       "(50, 8)"
      ]
     },
     "execution_count": 47,
     "metadata": {},
     "output_type": "execute_result"
    }
   ],
   "source": [
    "df_total = df_features_usuario.copy()\n",
    "df_total.shape"
   ]
  },
  {
   "cell_type": "code",
   "execution_count": 48,
   "metadata": {
    "ExecuteTime": {
     "end_time": "2019-03-24T14:47:03.160325Z",
     "start_time": "2019-03-24T14:47:03.156336Z"
    }
   },
   "outputs": [],
   "source": [
    "cols = ['energy', 'liveness', 'tempo', 'speechiness', 'acousticness',\n",
    "       'instrumentalness', 'danceability', 'duration_ms']"
   ]
  },
  {
   "cell_type": "code",
   "execution_count": 49,
   "metadata": {
    "ExecuteTime": {
     "end_time": "2019-03-24T14:47:03.435616Z",
     "start_time": "2019-03-24T14:47:03.164316Z"
    }
   },
   "outputs": [
    {
     "data": {
      "image/png": "[encoded data removed]",
      "text/plain": [
       "<Figure size 432x288 with 1 Axes>"
      ]
     },
     "metadata": {},
     "output_type": "display_data"
    }
   ],
   "source": [
    "from sklearn.cluster import KMeans\n",
    "wcss = []\n",
    "for i in range(1, 8):\n",
    "    kmeans = KMeans(n_clusters = i, init = 'k-means++', random_state = 0)\n",
    "    kmeans.fit(df_total)\n",
    "    wcss.append(kmeans.inertia_)\n",
    "plt.plot(range(1, 8), wcss)\n",
    "plt.title('The Elbow Method')\n",
    "plt.xlabel('Number of clusters')\n",
    "plt.ylabel('WCSS')\n",
    "plt.show()"
   ]
  },
  {
   "cell_type": "code",
   "execution_count": 50,
   "metadata": {
    "ExecuteTime": {
     "end_time": "2019-03-24T14:47:03.998083Z",
     "start_time": "2019-03-24T14:47:03.437593Z"
    }
   },
   "outputs": [
    {
     "name": "stdout",
     "output_type": "stream",
     "text": [
      "Para n_clusters = 3 , a média do coeficiente de  silhueta é : 0.5953830310953033\n"
     ]
    },
    {
     "data": {
      "image/png": "[encoded data removed]",
      "text/plain": [
       "<Figure size 576x360 with 1 Axes>"
      ]
     },
     "metadata": {},
     "output_type": "display_data"
    },
    {
     "name": "stdout",
     "output_type": "stream",
     "text": [
      "Para n_clusters = 4 , a média do coeficiente de  silhueta é : 0.5315961614720053\n"
     ]
    },
    {
     "data": {
      "image/png": "[encoded data removed]",
      "text/plain": [
       "<Figure size 576x360 with 1 Axes>"
      ]
     },
     "metadata": {},
     "output_type": "display_data"
    },
    {
     "name": "stdout",
     "output_type": "stream",
     "text": [
      "Para n_clusters = 5 , a média do coeficiente de  silhueta é : 0.5602201612123652\n"
     ]
    },
    {
     "data": {
      "image/png": "[encoded data removed]",
      "text/plain": [
       "<Figure size 576x360 with 1 Axes>"
      ]
     },
     "metadata": {},
     "output_type": "display_data"
    }
   ],
   "source": [
    "# Utilizando o coeficiente de silhueta para avaliar a qualidade dos clusters\n",
    "# https://en.wikipedia.org/wiki/Silhouette_(clustering)\n",
    "\n",
    "X = df_total.copy()\n",
    "\n",
    "range_n_clusters = [3,4,5]\n",
    "\n",
    "for n_clusters in range_n_clusters:\n",
    "    fig, (ax1) = plt.subplots(1)\n",
    "    fig.set_size_inches(8,5)\n",
    "\n",
    "    ax1.set_xlim([-0.1, 1])\n",
    "    ax1.set_ylim([0, len(X) + (n_clusters + 1) * 10])\n",
    "\n",
    "    # Initialize the clusterer with n_clusters value and a random generator\n",
    "    # seed of 10 for reproducibility.\n",
    "    clusterer = KMeans(n_clusters=n_clusters)\n",
    "    cluster_labels = clusterer.fit_predict(X)\n",
    "\n",
    "    # O coeficiente de silhueta mede a dissimilaridade média do objeto i em relação a\n",
    "    # todos os outros objetos do seu cluster e aos outros cluters\n",
    "    silhouette_avg = silhouette_score(X, cluster_labels)\n",
    "    print(\"Para n_clusters =\", n_clusters,\n",
    "          \", a média do coeficiente de  silhueta é :\", silhouette_avg)\n",
    "\n",
    "    # Compute the silhouette scores for each sample\n",
    "    sample_silhouette_values = silhouette_samples(X, cluster_labels)\n",
    "\n",
    "    y_lower = 3\n",
    "    for i in range(n_clusters):\n",
    "        # agregando o coeficiente de cada amostra de um cluster e ordenando-as\n",
    "        ith_cluster_silhouette_values = \\\n",
    "            sample_silhouette_values[cluster_labels == i]\n",
    "                \n",
    "        ith_cluster_silhouette_values.sort()\n",
    "\n",
    "        size_cluster_i = ith_cluster_silhouette_values.shape[0]\n",
    "        y_upper = y_lower + size_cluster_i\n",
    "\n",
    "        color = cm.nipy_spectral(float(i) / n_clusters)\n",
    "        ax1.fill_betweenx(np.arange(y_lower, y_upper),\n",
    "                          0, ith_cluster_silhouette_values,\n",
    "                          facecolor=color, edgecolor=color, alpha=0.7)\n",
    "\n",
    "        # Label the silhouette plots with their cluster numbers at the middle\n",
    "        ax1.text(-0.05, y_lower + 0.5 * size_cluster_i, str(i))\n",
    "\n",
    "        # Calculando o y do próximo cluster\n",
    "        y_lower = y_upper + 10  # 10 for the 0 samples\n",
    "\n",
    "    ax1.set_title(\"Gráfico de silhueta\")\n",
    "    ax1.set_xlabel(\"Coeficientes\")\n",
    "    ax1.set_ylabel(\"Clusters\")\n",
    "\n",
    "    # The vertical line for average silhouette score of all the values\n",
    "    ax1.axvline(x=silhouette_avg, color=\"red\", linestyle=\"--\")\n",
    "\n",
    "    ax1.set_yticks([])  # Clear the yaxis labels / ticks\n",
    "    ax1.set_xticks([-0.1, 0, 0.2, 0.4, 0.6, 0.8, 1])\n",
    "    \n",
    "\n",
    "    plt.show()"
   ]
  },
  {
   "cell_type": "markdown",
   "metadata": {
    "ExecuteTime": {
     "end_time": "2019-03-24T13:42:58.977433Z",
     "start_time": "2019-03-24T13:42:58.973445Z"
    }
   },
   "source": [
    "# modelagem"
   ]
  },
  {
   "cell_type": "code",
   "execution_count": 51,
   "metadata": {
    "ExecuteTime": {
     "end_time": "2019-03-24T14:47:04.007059Z",
     "start_time": "2019-03-24T14:47:04.001103Z"
    }
   },
   "outputs": [
    {
     "data": {
      "text/plain": [
       "Index(['energy', 'liveness', 'tempo', 'speechiness', 'acousticness',\n",
       "       'instrumentalness', 'danceability', 'duration_ms'],\n",
       "      dtype='object')"
      ]
     },
     "execution_count": 51,
     "metadata": {},
     "output_type": "execute_result"
    }
   ],
   "source": [
    "df_total.columns"
   ]
  },
  {
   "cell_type": "code",
   "execution_count": 103,
   "metadata": {
    "ExecuteTime": {
     "end_time": "2019-03-24T14:58:56.544155Z",
     "start_time": "2019-03-24T14:58:56.519264Z"
    }
   },
   "outputs": [],
   "source": [
    "model = KMeans(n_clusters=5).fit(df_total)"
   ]
  },
  {
   "cell_type": "code",
   "execution_count": 104,
   "metadata": {
    "ExecuteTime": {
     "end_time": "2019-03-24T14:58:56.786688Z",
     "start_time": "2019-03-24T14:58:56.782697Z"
    }
   },
   "outputs": [],
   "source": [
    "df_total['cluster'] = model.predict(df_total)"
   ]
  },
  {
   "cell_type": "code",
   "execution_count": 105,
   "metadata": {
    "ExecuteTime": {
     "end_time": "2019-03-24T14:58:56.992889Z",
     "start_time": "2019-03-24T14:58:56.979925Z"
    }
   },
   "outputs": [
    {
     "data": {
      "text/html": [
       "<div>\n",
       "<style scoped>\n",
       "    .dataframe tbody tr th:only-of-type {\n",
       "        vertical-align: middle;\n",
       "    }\n",
       "\n",
       "    .dataframe tbody tr th {\n",
       "        vertical-align: top;\n",
       "    }\n",
       "\n",
       "    .dataframe thead th {\n",
       "        text-align: right;\n",
       "    }\n",
       "</style>\n",
       "<table border=\"1\" class=\"dataframe\">\n",
       "  <thead>\n",
       "    <tr style=\"text-align: right;\">\n",
       "      <th></th>\n",
       "      <th>energy</th>\n",
       "      <th>liveness</th>\n",
       "      <th>tempo</th>\n",
       "      <th>speechiness</th>\n",
       "      <th>acousticness</th>\n",
       "      <th>instrumentalness</th>\n",
       "      <th>danceability</th>\n",
       "      <th>duration_ms</th>\n",
       "      <th>cluster</th>\n",
       "    </tr>\n",
       "  </thead>\n",
       "  <tbody>\n",
       "    <tr>\n",
       "      <th>0</th>\n",
       "      <td>0.483</td>\n",
       "      <td>0.696</td>\n",
       "      <td>140.154</td>\n",
       "      <td>0.0356</td>\n",
       "      <td>0.1300</td>\n",
       "      <td>0.000028</td>\n",
       "      <td>0.619</td>\n",
       "      <td>269680</td>\n",
       "      <td>1</td>\n",
       "    </tr>\n",
       "    <tr>\n",
       "      <th>1</th>\n",
       "      <td>0.366</td>\n",
       "      <td>0.718</td>\n",
       "      <td>136.863</td>\n",
       "      <td>0.0429</td>\n",
       "      <td>0.1310</td>\n",
       "      <td>0.000208</td>\n",
       "      <td>0.594</td>\n",
       "      <td>308093</td>\n",
       "      <td>4</td>\n",
       "    </tr>\n",
       "    <tr>\n",
       "      <th>2</th>\n",
       "      <td>0.423</td>\n",
       "      <td>0.959</td>\n",
       "      <td>79.305</td>\n",
       "      <td>0.4900</td>\n",
       "      <td>0.8830</td>\n",
       "      <td>0.000000</td>\n",
       "      <td>0.431</td>\n",
       "      <td>99147</td>\n",
       "      <td>2</td>\n",
       "    </tr>\n",
       "    <tr>\n",
       "      <th>3</th>\n",
       "      <td>0.463</td>\n",
       "      <td>0.698</td>\n",
       "      <td>79.971</td>\n",
       "      <td>0.0359</td>\n",
       "      <td>0.0345</td>\n",
       "      <td>0.018400</td>\n",
       "      <td>0.505</td>\n",
       "      <td>269280</td>\n",
       "      <td>1</td>\n",
       "    </tr>\n",
       "    <tr>\n",
       "      <th>4</th>\n",
       "      <td>0.253</td>\n",
       "      <td>0.701</td>\n",
       "      <td>144.027</td>\n",
       "      <td>0.0324</td>\n",
       "      <td>0.6980</td>\n",
       "      <td>0.002950</td>\n",
       "      <td>0.701</td>\n",
       "      <td>252307</td>\n",
       "      <td>1</td>\n",
       "    </tr>\n",
       "  </tbody>\n",
       "</table>\n",
       "</div>"
      ],
      "text/plain": [
       "   energy  liveness    tempo  speechiness  acousticness  instrumentalness  \\\n",
       "0   0.483     0.696  140.154       0.0356        0.1300          0.000028   \n",
       "1   0.366     0.718  136.863       0.0429        0.1310          0.000208   \n",
       "2   0.423     0.959   79.305       0.4900        0.8830          0.000000   \n",
       "3   0.463     0.698   79.971       0.0359        0.0345          0.018400   \n",
       "4   0.253     0.701  144.027       0.0324        0.6980          0.002950   \n",
       "\n",
       "   danceability  duration_ms  cluster  \n",
       "0         0.619       269680        1  \n",
       "1         0.594       308093        4  \n",
       "2         0.431        99147        2  \n",
       "3         0.505       269280        1  \n",
       "4         0.701       252307        1  "
      ]
     },
     "execution_count": 105,
     "metadata": {},
     "output_type": "execute_result"
    }
   ],
   "source": [
    "df_total.head()"
   ]
  },
  {
   "cell_type": "code",
   "execution_count": 106,
   "metadata": {
    "ExecuteTime": {
     "end_time": "2019-03-24T14:58:57.150974Z",
     "start_time": "2019-03-24T14:58:57.147979Z"
    }
   },
   "outputs": [],
   "source": [
    "#classificação\n",
    "from sklearn.model_selection import train_test_split\n",
    "from sklearn.model_selection import cross_val_score\n",
    "from sklearn.tree import DecisionTreeClassifier "
   ]
  },
  {
   "cell_type": "code",
   "execution_count": 107,
   "metadata": {
    "ExecuteTime": {
     "end_time": "2019-03-24T14:58:57.339580Z",
     "start_time": "2019-03-24T14:58:57.333592Z"
    }
   },
   "outputs": [],
   "source": [
    "X = np.array(df_total.iloc[:,:-1])\n",
    "y = np.array(df_total['cluster'])"
   ]
  },
  {
   "cell_type": "code",
   "execution_count": 108,
   "metadata": {
    "ExecuteTime": {
     "end_time": "2019-03-24T14:58:57.551155Z",
     "start_time": "2019-03-24T14:58:57.546167Z"
    }
   },
   "outputs": [
    {
     "data": {
      "text/plain": [
       "array([1, 4, 2, 1, 1, 1, 0, 3, 3, 1, 4, 0, 0, 3, 4, 3, 0, 0, 3, 1, 1, 1,\n",
       "       1, 3, 0, 0, 3, 0, 0, 3, 0, 1, 1, 3, 3, 1, 0, 0, 0, 0, 3, 3, 2, 1,\n",
       "       1, 3, 3, 3, 3, 3])"
      ]
     },
     "execution_count": 108,
     "metadata": {},
     "output_type": "execute_result"
    }
   ],
   "source": [
    "np.array(df_total['cluster'])"
   ]
  },
  {
   "cell_type": "code",
   "execution_count": 109,
   "metadata": {
    "ExecuteTime": {
     "end_time": "2019-03-24T14:58:57.733360Z",
     "start_time": "2019-03-24T14:58:57.727375Z"
    }
   },
   "outputs": [
    {
     "data": {
      "text/plain": [
       "DecisionTreeClassifier(class_weight=None, criterion='gini', max_depth=None,\n",
       "            max_features=None, max_leaf_nodes=None,\n",
       "            min_impurity_decrease=0.0, min_impurity_split=None,\n",
       "            min_samples_leaf=1, min_samples_split=2,\n",
       "            min_weight_fraction_leaf=0.0, presort=False, random_state=0,\n",
       "            splitter='best')"
      ]
     },
     "execution_count": 109,
     "metadata": {},
     "output_type": "execute_result"
    }
   ],
   "source": [
    "clf = DecisionTreeClassifier(random_state=0)\n",
    "clf.fit(X, y)"
   ]
  },
  {
   "cell_type": "code",
   "execution_count": 110,
   "metadata": {
    "ExecuteTime": {
     "end_time": "2019-03-24T14:58:58.320591Z",
     "start_time": "2019-03-24T14:58:57.901885Z"
    }
   },
   "outputs": [],
   "source": [
    "#fernanda lemos\n",
    "df_fernanda = criacao_features(sp.audio_features('1Qpe9vt81I6mQzicGBu3vj'))"
   ]
  },
  {
   "cell_type": "code",
   "execution_count": 111,
   "metadata": {
    "ExecuteTime": {
     "end_time": "2019-03-24T14:58:58.344471Z",
     "start_time": "2019-03-24T14:58:58.329545Z"
    }
   },
   "outputs": [
    {
     "data": {
      "text/plain": [
       "array([[0., 1., 0., 0., 0.]])"
      ]
     },
     "execution_count": 111,
     "metadata": {},
     "output_type": "execute_result"
    }
   ],
   "source": [
    "clf.predict_proba(df_fernanda[cols])"
   ]
  },
  {
   "cell_type": "code",
   "execution_count": 112,
   "metadata": {
    "ExecuteTime": {
     "end_time": "2019-03-24T14:58:59.025055Z",
     "start_time": "2019-03-24T14:58:58.544565Z"
    }
   },
   "outputs": [],
   "source": [
    "#laura zenner\n",
    "df_laura = criacao_features(sp.audio_features('6gAlsxCNtNrpKrNZ1tltWZ'))"
   ]
  },
  {
   "cell_type": "code",
   "execution_count": 113,
   "metadata": {
    "ExecuteTime": {
     "end_time": "2019-03-24T14:58:59.581257Z",
     "start_time": "2019-03-24T14:58:59.576259Z"
    }
   },
   "outputs": [
    {
     "data": {
      "text/plain": [
       "array([[0., 0., 0., 1., 0.]])"
      ]
     },
     "execution_count": 113,
     "metadata": {},
     "output_type": "execute_result"
    }
   ],
   "source": [
    "clf.predict_proba(df_laura[cols])"
   ]
  },
  {
   "cell_type": "code",
   "execution_count": null,
   "metadata": {},
   "outputs": [],
   "source": []
  },
  {
   "cell_type": "code",
   "execution_count": null,
   "metadata": {},
   "outputs": [],
   "source": []
  },
  {
   "cell_type": "code",
   "execution_count": null,
   "metadata": {},
   "outputs": [],
   "source": []
  }
 ],
 "metadata": {
  "kernelspec": {
   "display_name": "Python 3",
   "language": "python",
   "name": "python3"
  },
  "language_info": {
   "codemirror_mode": {
    "name": "ipython",
    "version": 3
   },
   "file_extension": ".py",
   "mimetype": "text/x-python",
   "name": "python",
   "nbconvert_exporter": "python",
   "pygments_lexer": "ipython3",
   "version": "3.6.5"
  }
 },
 "nbformat": 4,
 "nbformat_minor": 2
}
